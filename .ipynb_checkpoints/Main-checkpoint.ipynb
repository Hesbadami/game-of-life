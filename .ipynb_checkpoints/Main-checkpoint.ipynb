{
 "cells": [
  {
   "cell_type": "markdown",
   "id": "31fe0f9b",
   "metadata": {},
   "source": [
    "### Rules:\n",
    "\n",
    "1- Any live cell with fewer than two live neighbours dies, as if by underpopulation.\n",
    "\n",
    "2- Any live cell with two or three live neighbours lives on to the next generation.\n",
    "\n",
    "3- Any live cell with more than three live neighbours dies, as if by overpopulation.\n",
    "\n",
    "4- Any dead cell with exactly three live neighbours becomes a live cell, as if by reproduction."
   ]
  },
  {
   "cell_type": "code",
   "execution_count": 3,
   "id": "2519288f",
   "metadata": {},
   "outputs": [
    {
     "name": "stdout",
     "output_type": "stream",
     "text": [
      "pygame 2.1.2 (SDL 2.0.16, Python 3.10.6)\n",
      "Hello from the pygame community. https://www.pygame.org/contribute.html\n"
     ]
    }
   ],
   "source": [
    "import pygame # we use pygame\n",
    "import numpy as np # numpy to repr the array\n",
    "from time import sleep # to control the speed of the game \n",
    "from numba import njit # to speed up everything"
   ]
  },
  {
   "cell_type": "markdown",
   "id": "43c925e4",
   "metadata": {},
   "source": [
    "We first create a world. (we will use pygame to show our results and provide an interactive enviroment for the user)"
   ]
  },
  {
   "cell_type": "code",
   "execution_count": 4,
   "id": "211bb614",
   "metadata": {},
   "outputs": [],
   "source": [
    "# function that takes in a world, and updates it using the first three rules above\n",
    "@njit(\"i1[:,:](i1[:,:])\", nogil=True)\n",
    "def next_gen(world):\n",
    "    \n",
    "    height, width = world.shape # take world shape\n",
    "    new_world = np.zeros((height, width), np.int8) # make a new world that we want to edit\n",
    "    \n",
    "    for i in range(height): # iterate through all the rows\n",
    "        for j in range(width):  # iterate through all columns\n",
    "            \n",
    "            cell = world[i][j]\n",
    "            neighbours_count = np.array([\n",
    "                    world[i_r][j_r]\n",
    "                    for i_r in ((i-1)%height, i, (i+1)%height) #periodic condition applied\n",
    "                    for j_r in ((j-1)%width, j, (j+1)%width)\n",
    "            ]).sum() - cell\n",
    "            \n",
    "            if cell and neighbours_count in (2, 3):\n",
    "                new_world[i][j] = 1\n",
    "                \n",
    "            elif (not cell) and neighbours_count == 3:\n",
    "                new_world[i][j] = 1\n",
    "            \n",
    "    return new_world"
   ]
  },
  {
   "cell_type": "code",
   "execution_count": 5,
   "id": "a11bb7c3",
   "metadata": {},
   "outputs": [],
   "source": [
    "width, height = 1100, 600\n",
    "\n",
    "pygame.init()\n",
    "\n",
    "screen = pygame.display.set_mode((width, height))\n",
    "\n",
    "#world = np.random.randint(0, 2, (height, width), np.int8)\n",
    "\n",
    "world = np.zeros((int(height/5), int(width/5)), np.int8)\n",
    "\n",
    "# now we want to take the initial position as input from the user\n",
    "def user_edit(world):\n",
    "    # if left click: make cell alive\n",
    "    if pygame.mouse.get_pressed()[0]: # if left click is pressed\n",
    "        x, y = pygame.mouse.get_pos()  # take the cursor position and try to highlight on grid\n",
    "        world[int(y/5)][int(x/5)] = 1\n",
    "        \n",
    "    # if right click: make cell dead\n",
    "    if pygame.mouse.get_pressed()[2]:\n",
    "        x, y, = pygame.mouse.get_pos()\n",
    "        world[int(y/5)][int(x/5)] = 0\n",
    "    \n",
    "    return world\n",
    "\n",
    "def update_screen(world):\n",
    "    height, width = world.shape\n",
    "    screen.fill((0, 0, 0))\n",
    "    for i in range(height):\n",
    "        for j in range(width):\n",
    "            if world[i][j]:\n",
    "                pygame.draw.rect(screen, (255, 255, 255), (j*5, i*5, 5, 5))\n",
    "\n",
    "run = True\n",
    "pause = True\n",
    "\n",
    "time_to_sleep = 0.3\n",
    "while run:\n",
    "\n",
    "    update_screen(world)\n",
    "    if not pause:\n",
    "        sleep(time_to_sleep)\n",
    "        world = next_gen(world)\n",
    "            \n",
    "    if pause:\n",
    "        world = user_edit(world)\n",
    "    \n",
    "    pygame.display.update()\n",
    "    \n",
    "    \n",
    "    for event in pygame.event.get():\n",
    "        \n",
    "        if event.type == pygame.MOUSEBUTTONDOWN:\n",
    "            if event.button == 2:\n",
    "                pause = not pause\n",
    "                \n",
    "            if event.button == 4:\n",
    "                time_to_sleep = max(0, time_to_sleep + 0.05)\n",
    "                time_to_sleep = min(time_to_sleep, 1)\n",
    "                \n",
    "            if event.button == 5:\n",
    "                time_to_sleep = max(0, time_to_sleep - 0.05)\n",
    "                time_to_sleep = min(time_to_sleep, 1)\n",
    "                \n",
    "        if event.type == pygame.QUIT:\n",
    "            pygame.display.quit()\n",
    "            pygame.QUIT\n",
    "            run = False"
   ]
  }
 ],
 "metadata": {
  "kernelspec": {
   "display_name": "Python 3 (ipykernel)",
   "language": "python",
   "name": "python3"
  },
  "language_info": {
   "codemirror_mode": {
    "name": "ipython",
    "version": 3
   },
   "file_extension": ".py",
   "mimetype": "text/x-python",
   "name": "python",
   "nbconvert_exporter": "python",
   "pygments_lexer": "ipython3",
   "version": "3.10.6"
  }
 },
 "nbformat": 4,
 "nbformat_minor": 5
}
